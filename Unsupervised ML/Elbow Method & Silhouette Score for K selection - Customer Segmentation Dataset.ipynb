{
 "cells": [
  {
   "cell_type": "markdown",
   "id": "30136dce",
   "metadata": {},
   "source": [
    "# Elbow Method & Silhouette Score for K selection \n",
    "\n",
    "- Customer Segmentation Dataset"
   ]
  },
  {
   "cell_type": "markdown",
   "id": "7a97b773",
   "metadata": {},
   "source": [
    "### Step 1: Import necessary libraries"
   ]
  },
  {
   "cell_type": "code",
   "execution_count": 1,
   "id": "c3b923e4",
   "metadata": {},
   "outputs": [],
   "source": [
    "import numpy as np\n",
    "import pandas as pd\n",
    "import matplotlib.pyplot as plt\n",
    "from sklearn.cluster import KMeans\n",
    "from sklearn.metrics import silhouette_score\n",
    "from sklearn.preprocessing import StandardScaler\n",
    "import warnings\n",
    "warnings.filterwarnings(\"ignore\")"
   ]
  },
  {
   "cell_type": "markdown",
   "id": "3ee2e4a9",
   "metadata": {},
   "source": [
    "### Step 2: Load and preprocess the data"
   ]
  },
  {
   "cell_type": "code",
   "execution_count": 2,
   "id": "acdaf33a",
   "metadata": {},
   "outputs": [
    {
     "data": {
      "text/html": [
       "<div>\n",
       "<style scoped>\n",
       "    .dataframe tbody tr th:only-of-type {\n",
       "        vertical-align: middle;\n",
       "    }\n",
       "\n",
       "    .dataframe tbody tr th {\n",
       "        vertical-align: top;\n",
       "    }\n",
       "\n",
       "    .dataframe thead th {\n",
       "        text-align: right;\n",
       "    }\n",
       "</style>\n",
       "<table border=\"1\" class=\"dataframe\">\n",
       "  <thead>\n",
       "    <tr style=\"text-align: right;\">\n",
       "      <th></th>\n",
       "      <th>ID</th>\n",
       "      <th>Gender</th>\n",
       "      <th>Ever_Married</th>\n",
       "      <th>Age</th>\n",
       "      <th>Graduated</th>\n",
       "      <th>Profession</th>\n",
       "      <th>Work_Experience</th>\n",
       "      <th>Spending_Score</th>\n",
       "      <th>Family_Size</th>\n",
       "      <th>Var_1</th>\n",
       "      <th>Segmentation</th>\n",
       "    </tr>\n",
       "  </thead>\n",
       "  <tbody>\n",
       "    <tr>\n",
       "      <th>0</th>\n",
       "      <td>462809</td>\n",
       "      <td>Male</td>\n",
       "      <td>No</td>\n",
       "      <td>22</td>\n",
       "      <td>No</td>\n",
       "      <td>Healthcare</td>\n",
       "      <td>1.0</td>\n",
       "      <td>Low</td>\n",
       "      <td>4.0</td>\n",
       "      <td>Cat_4</td>\n",
       "      <td>D</td>\n",
       "    </tr>\n",
       "    <tr>\n",
       "      <th>1</th>\n",
       "      <td>462643</td>\n",
       "      <td>Female</td>\n",
       "      <td>Yes</td>\n",
       "      <td>38</td>\n",
       "      <td>Yes</td>\n",
       "      <td>Engineer</td>\n",
       "      <td>NaN</td>\n",
       "      <td>Average</td>\n",
       "      <td>3.0</td>\n",
       "      <td>Cat_4</td>\n",
       "      <td>A</td>\n",
       "    </tr>\n",
       "    <tr>\n",
       "      <th>2</th>\n",
       "      <td>466315</td>\n",
       "      <td>Female</td>\n",
       "      <td>Yes</td>\n",
       "      <td>67</td>\n",
       "      <td>Yes</td>\n",
       "      <td>Engineer</td>\n",
       "      <td>1.0</td>\n",
       "      <td>Low</td>\n",
       "      <td>1.0</td>\n",
       "      <td>Cat_6</td>\n",
       "      <td>B</td>\n",
       "    </tr>\n",
       "    <tr>\n",
       "      <th>3</th>\n",
       "      <td>461735</td>\n",
       "      <td>Male</td>\n",
       "      <td>Yes</td>\n",
       "      <td>67</td>\n",
       "      <td>Yes</td>\n",
       "      <td>Lawyer</td>\n",
       "      <td>0.0</td>\n",
       "      <td>High</td>\n",
       "      <td>2.0</td>\n",
       "      <td>Cat_6</td>\n",
       "      <td>B</td>\n",
       "    </tr>\n",
       "    <tr>\n",
       "      <th>4</th>\n",
       "      <td>462669</td>\n",
       "      <td>Female</td>\n",
       "      <td>Yes</td>\n",
       "      <td>40</td>\n",
       "      <td>Yes</td>\n",
       "      <td>Entertainment</td>\n",
       "      <td>NaN</td>\n",
       "      <td>High</td>\n",
       "      <td>6.0</td>\n",
       "      <td>Cat_6</td>\n",
       "      <td>A</td>\n",
       "    </tr>\n",
       "  </tbody>\n",
       "</table>\n",
       "</div>"
      ],
      "text/plain": [
       "       ID  Gender Ever_Married  Age Graduated     Profession  Work_Experience  \\\n",
       "0  462809    Male           No   22        No     Healthcare              1.0   \n",
       "1  462643  Female          Yes   38       Yes       Engineer              NaN   \n",
       "2  466315  Female          Yes   67       Yes       Engineer              1.0   \n",
       "3  461735    Male          Yes   67       Yes         Lawyer              0.0   \n",
       "4  462669  Female          Yes   40       Yes  Entertainment              NaN   \n",
       "\n",
       "  Spending_Score  Family_Size  Var_1 Segmentation  \n",
       "0            Low          4.0  Cat_4            D  \n",
       "1        Average          3.0  Cat_4            A  \n",
       "2            Low          1.0  Cat_6            B  \n",
       "3           High          2.0  Cat_6            B  \n",
       "4           High          6.0  Cat_6            A  "
      ]
     },
     "execution_count": 2,
     "metadata": {},
     "output_type": "execute_result"
    }
   ],
   "source": [
    "data = pd.read_csv('customer_segmentation.csv')\n",
    "\n",
    "data.head()"
   ]
  },
  {
   "cell_type": "code",
   "execution_count": 3,
   "id": "2cb70923-9dca-4fc4-ab85-f17ca67a4fa5",
   "metadata": {},
   "outputs": [
    {
     "data": {
      "text/plain": [
       "(10695, 11)"
      ]
     },
     "execution_count": 3,
     "metadata": {},
     "output_type": "execute_result"
    }
   ],
   "source": [
    "data.shape"
   ]
  },
  {
   "cell_type": "code",
   "execution_count": 4,
   "id": "70e0c542",
   "metadata": {},
   "outputs": [],
   "source": [
    "# Drop non-numeric and irrelevant columns (e.g., ID, Gender, etc.)\n",
    "data = data.drop(columns=['ID', 'Gender', 'Ever_Married', 'Graduated', 'Profession', 'Spending_Score', \n",
    "                          'Var_1', 'Segmentation'])\n"
   ]
  },
  {
   "cell_type": "code",
   "execution_count": 5,
   "id": "cc6f56a6",
   "metadata": {},
   "outputs": [
    {
     "data": {
      "text/html": [
       "<div>\n",
       "<style scoped>\n",
       "    .dataframe tbody tr th:only-of-type {\n",
       "        vertical-align: middle;\n",
       "    }\n",
       "\n",
       "    .dataframe tbody tr th {\n",
       "        vertical-align: top;\n",
       "    }\n",
       "\n",
       "    .dataframe thead th {\n",
       "        text-align: right;\n",
       "    }\n",
       "</style>\n",
       "<table border=\"1\" class=\"dataframe\">\n",
       "  <thead>\n",
       "    <tr style=\"text-align: right;\">\n",
       "      <th></th>\n",
       "      <th>Age</th>\n",
       "      <th>Work_Experience</th>\n",
       "      <th>Family_Size</th>\n",
       "    </tr>\n",
       "  </thead>\n",
       "  <tbody>\n",
       "    <tr>\n",
       "      <th>0</th>\n",
       "      <td>22</td>\n",
       "      <td>1.0</td>\n",
       "      <td>4.0</td>\n",
       "    </tr>\n",
       "    <tr>\n",
       "      <th>1</th>\n",
       "      <td>38</td>\n",
       "      <td>NaN</td>\n",
       "      <td>3.0</td>\n",
       "    </tr>\n",
       "    <tr>\n",
       "      <th>2</th>\n",
       "      <td>67</td>\n",
       "      <td>1.0</td>\n",
       "      <td>1.0</td>\n",
       "    </tr>\n",
       "    <tr>\n",
       "      <th>3</th>\n",
       "      <td>67</td>\n",
       "      <td>0.0</td>\n",
       "      <td>2.0</td>\n",
       "    </tr>\n",
       "    <tr>\n",
       "      <th>4</th>\n",
       "      <td>40</td>\n",
       "      <td>NaN</td>\n",
       "      <td>6.0</td>\n",
       "    </tr>\n",
       "  </tbody>\n",
       "</table>\n",
       "</div>"
      ],
      "text/plain": [
       "   Age  Work_Experience  Family_Size\n",
       "0   22              1.0          4.0\n",
       "1   38              NaN          3.0\n",
       "2   67              1.0          1.0\n",
       "3   67              0.0          2.0\n",
       "4   40              NaN          6.0"
      ]
     },
     "execution_count": 5,
     "metadata": {},
     "output_type": "execute_result"
    }
   ],
   "source": [
    "data.head()"
   ]
  },
  {
   "cell_type": "code",
   "execution_count": 6,
   "id": "f1acbc53-86f6-459a-bb4f-16b2acd03091",
   "metadata": {},
   "outputs": [
    {
     "data": {
      "text/plain": [
       "Age                   0\n",
       "Work_Experience    1098\n",
       "Family_Size         448\n",
       "dtype: int64"
      ]
     },
     "execution_count": 6,
     "metadata": {},
     "output_type": "execute_result"
    }
   ],
   "source": [
    "data.isnull().sum()"
   ]
  },
  {
   "cell_type": "code",
   "execution_count": 7,
   "id": "bc73b0c5",
   "metadata": {},
   "outputs": [],
   "source": [
    "# Drop rows with missing values (NaN)\n",
    "data = data.dropna()"
   ]
  },
  {
   "cell_type": "markdown",
   "id": "fbb383eb",
   "metadata": {},
   "source": [
    "### Step 3: Scale the data (if needed)"
   ]
  },
  {
   "cell_type": "code",
   "execution_count": 8,
   "id": "09494e68",
   "metadata": {},
   "outputs": [],
   "source": [
    "scaler = StandardScaler()\n",
    "data_scaled = scaler.fit_transform(data)"
   ]
  },
  {
   "cell_type": "markdown",
   "id": "3778e56e",
   "metadata": {},
   "source": [
    "### Step 4: Apply K-Means for Various K Values\n"
   ]
  },
  {
   "cell_type": "code",
   "execution_count": 9,
   "id": "f20ac3ee",
   "metadata": {},
   "outputs": [],
   "source": [
    "inertia_values = [] # Also Known as WCSS \n",
    "silhouette_scores = []\n",
    "K_range = range(2, 11)  # You can adjust the range as needed\n",
    "\n",
    "for K in K_range:\n",
    "    kmeans = KMeans(n_clusters=K, init= 'k-means++', random_state=42)\n",
    "    kmeans.fit(data_scaled)\n",
    "    \n",
    "    # Inertia (within-cluster sum of squares)\n",
    "    inertia_values.append(kmeans.inertia_)\n",
    "    \n",
    "    # Silhouette Score\n",
    "    silhouette = silhouette_score(data_scaled, kmeans.labels_)\n",
    "    silhouette_scores.append(silhouette)"
   ]
  },
  {
   "cell_type": "code",
   "execution_count": 10,
   "id": "86abf683-588b-46f1-8464-2f8a3ae1e83a",
   "metadata": {},
   "outputs": [
    {
     "data": {
      "text/plain": [
       "[20124.07109280248,\n",
       " 13014.664681611672,\n",
       " 9801.31270715444,\n",
       " 8531.05058881542,\n",
       " 7323.934017203172,\n",
       " 6309.327486234021,\n",
       " 5837.207684092016,\n",
       " 5495.217968385097,\n",
       " 5230.415340103163]"
      ]
     },
     "execution_count": 10,
     "metadata": {},
     "output_type": "execute_result"
    }
   ],
   "source": [
    "inertia_values"
   ]
  },
  {
   "cell_type": "code",
   "execution_count": 11,
   "id": "baee43ab-2d7a-43ff-85e2-b0603a725efd",
   "metadata": {},
   "outputs": [
    {
     "name": "stdout",
     "output_type": "stream",
     "text": [
      "[np.float64(0.2694972009523588), np.float64(0.3543380730251246), np.float64(0.35186036094189155), np.float64(0.3564238777132847), np.float64(0.36285216732331926), np.float64(0.35808478192614307), np.float64(0.3515340641430051), np.float64(0.34044504989108004), np.float64(0.34820568097637344)]\n"
     ]
    }
   ],
   "source": [
    "print(silhouette_scores)"
   ]
  },
  {
   "cell_type": "markdown",
   "id": "b9151fd2",
   "metadata": {},
   "source": [
    "### Step 5: Elbow Method"
   ]
  },
  {
   "cell_type": "code",
   "execution_count": 12,
   "id": "a0f141f9",
   "metadata": {},
   "outputs": [
    {
     "data": {
      "image/png": "[encoded data removed]",
      "text/plain": [
       "<Figure size 1200x600 with 1 Axes>"
      ]
     },
     "metadata": {},
     "output_type": "display_data"
    }
   ],
   "source": [
    "plt.figure(figsize=(12, 6))\n",
    "plt.subplot(1, 2, 1)\n",
    "plt.plot(K_range, inertia_values, marker='o', linestyle='-')\n",
    "plt.xlabel('Number of Clusters (K)')\n",
    "plt.ylabel('Inertia (Within-cluster Sum of Squares)')\n",
    "plt.title('Elbow Method')\n",
    "plt.show()"
   ]
  },
  {
   "cell_type": "markdown",
   "id": "e6fa2a19",
   "metadata": {},
   "source": [
    "### Step 6: Silhouette Score"
   ]
  },
  {
   "cell_type": "code",
   "execution_count": 13,
   "id": "54864430",
   "metadata": {},
   "outputs": [
    {
     "data": {
      "image/png": "[encoded data removed]",
      "text/plain": [
       "<Figure size 640x480 with 1 Axes>"
      ]
     },
     "metadata": {},
     "output_type": "display_data"
    }
   ],
   "source": [
    "plt.plot(K_range, silhouette_scores, marker='o', linestyle='-')\n",
    "plt.xlabel('Number of Clusters (K)')\n",
    "plt.ylabel('Silhouette Score')\n",
    "plt.title('Silhouette Score')\n",
    "plt.show()"
   ]
  },
  {
   "cell_type": "markdown",
   "id": "2c579d50",
   "metadata": {},
   "source": [
    "### Step 8: Interpretation"
   ]
  },
  {
   "cell_type": "code",
   "execution_count": 14,
   "id": "f2e7da58",
   "metadata": {},
   "outputs": [
    {
     "name": "stdout",
     "output_type": "stream",
     "text": [
      "Selected K value from Elbow Method: 3\n",
      "Selected K value from Silhouette Score: 6\n"
     ]
    }
   ],
   "source": [
    "# Find the K value from the Elbow Method\n",
    "elbow_K = 3  # Replace with the K value where you observe the \"elbow\" in the plot\n",
    "\n",
    "# Find the K value from the Silhouette Score\n",
    "silhouette_K = 6  # Replace with the K value that maximizes the Silhouette Score\n",
    "\n",
    "# Print the selected K values\n",
    "print(f\"Selected K value from Elbow Method: {elbow_K}\")\n",
    "print(f\"Selected K value from Silhouette Score: {silhouette_K}\")\n"
   ]
  },
  {
   "cell_type": "code",
   "execution_count": 15,
   "id": "3a598602",
   "metadata": {},
   "outputs": [
    {
     "data": {
      "text/plain": [
       "'You can use either the K value from the Elbow Method or the Silhouette Score, based on your preference and\\nthe characteristics of the dataset'"
      ]
     },
     "execution_count": 15,
     "metadata": {},
     "output_type": "execute_result"
    }
   ],
   "source": [
    "'''You can use either the K value from the Elbow Method or the Silhouette Score, based on your preference and\n",
    "the characteristics of the dataset'''"
   ]
  }
 ],
 "metadata": {
  "kernelspec": {
   "display_name": "Python 3 (ipykernel)",
   "language": "python",
   "name": "python3"
  },
  "language_info": {
   "codemirror_mode": {
    "name": "ipython",
    "version": 3
   },
   "file_extension": ".py",
   "mimetype": "text/x-python",
   "name": "python",
   "nbconvert_exporter": "python",
   "pygments_lexer": "ipython3",
   "version": "3.13.3"
  }
 },
 "nbformat": 4,
 "nbformat_minor": 5
}
